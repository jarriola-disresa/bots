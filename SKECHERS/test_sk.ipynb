{
 "cells": [
  {
   "cell_type": "code",
   "execution_count": null,
   "id": "67b8ce3c",
   "metadata": {},
   "outputs": [],
   "source": [
    "import pandas as pd\n",
    "import warnings\n",
    "import numpy as np\n",
    "\n",
    "warnings.filterwarnings(\"ignore\")"
   ]
  },
  {
   "cell_type": "code",
   "execution_count": null,
   "id": "66153d29",
   "metadata": {},
   "outputs": [],
   "source": [
    "# cargar el archivo CSV expdata.csv\n",
    "df_sk = pd.read_csv('dictionarysk.csv', delimiter=';')\n",
    "df_null_sk= pd.read_csv('sk.csv', delimiter=';')"
   ]
  },
  {
   "cell_type": "code",
   "execution_count": null,
   "id": "970fef03",
   "metadata": {},
   "outputs": [],
   "source": [
    "df_sk.head()"
   ]
  },
  {
   "cell_type": "code",
   "execution_count": null,
   "id": "f5b65329",
   "metadata": {},
   "outputs": [],
   "source": [
    "df_null_sk.head()"
   ]
  },
  {
   "cell_type": "code",
   "execution_count": null,
   "id": "8ddf68f6",
   "metadata": {},
   "outputs": [],
   "source": [
    "# 1. Extraer u_estilo de ItemName (lo que está antes del primer '/')\n",
    "df_null_sk['U_Estilo'] = df_null_sk['ItemName'].str.split('/').str[0]\n",
    "\n",
    "# 2. Condición 1: que tenga al menos un \"/\"\n",
    "tiene_slash = df_null_sk['ItemName'].str.contains('/')\n",
    "\n",
    "# 3. Condición 2: que u_estilo tenga al menos 2 caracteres y empiece con letra o número\n",
    "formato_correcto = (\n",
    "    df_null_sk['U_Estilo'].str.len() >= 2\n",
    ") & (\n",
    "    df_null_sk['U_Estilo'].str[0].str.isalnum()\n",
    ")\n",
    "\n",
    "# 4. Condición final: válido si cumple ambas\n",
    "cond_valido = tiene_slash & formato_correcto\n",
    "\n",
    "# 5. Separar válidos e inválidos\n",
    "df_valido = df_null_sk[cond_valido].copy()\n",
    "df_invalido = df_null_sk[~cond_valido].copy()\n",
    "\n",
    "# 6. Limpiar u_estilo en los inválidos\n",
    "df_invalido['U_Estilo'] = np.nan\n"
   ]
  },
  {
   "cell_type": "code",
   "execution_count": null,
   "id": "722a6a67",
   "metadata": {},
   "outputs": [],
   "source": [
    "df_valido['U_Descripcion'] = df_valido['ItemName'].str.split('/').str[1]\n",
    "\n",
    "# Eliminar \"Americana\" seguido de número (entero o decimal), con o sin espacio\n",
    "df_valido['U_Descripcion'] = df_valido['U_Descripcion'].str.replace(\n",
    "    r'(?i)americana\\s*\\d+(?:\\.\\d+)?', '', regex=True\n",
    ")\n",
    "\n"
   ]
  },
  {
   "cell_type": "code",
   "execution_count": null,
   "id": "ab462e98",
   "metadata": {},
   "outputs": [],
   "source": [
    "df_valido.head()"
   ]
  },
  {
   "cell_type": "code",
   "execution_count": null,
   "id": "41f1ba95",
   "metadata": {},
   "outputs": [],
   "source": [
    "df_sk.head()"
   ]
  },
  {
   "cell_type": "code",
   "execution_count": null,
   "id": "318d9bc4",
   "metadata": {},
   "outputs": [],
   "source": [
    "df_sk.head()"
   ]
  },
  {
   "cell_type": "code",
   "execution_count": null,
   "id": "07a50d7c",
   "metadata": {},
   "outputs": [],
   "source": [
    "# Seleccionar columnas necesarias del df_sk como referencia\n",
    "df_temp = df_sk[['ItemCode', 'Empresa', 'U_Genero', 'U_Suela', 'U_Descrip_Color',\n",
    "                 'U_Segmentacion_SK', 'U_Division', 'U_Temporalidad']].copy()\n",
    "\n",
    "# Renombrar columnas para evitar colisiones en el merge\n",
    "df_temp.rename(columns={\n",
    "    'U_Genero': 'U_Genero_sk',\n",
    "    'U_Suela': 'U_Suela_sk',\n",
    "    'U_Descrip_Color': 'U_Descrip_Color_sk',\n",
    "    'U_Segmentacion_SK': 'U_Segmentacion_SK_sk',  # <- corregido aquí\n",
    "    'U_Division': 'U_Division_sk',\n",
    "    'U_Temporalidad': 'U_Temporalidad_sk'\n",
    "}, inplace=True)\n",
    "\n",
    "# Hacer merge con df_valido por ItemCode y Empresa\n",
    "df_valido = df_valido.merge(df_temp, on=['ItemCode', 'Empresa'], how='left')\n",
    "\n",
    "# Columnas originales que deseas rellenar\n",
    "columnas = ['U_Genero', 'U_Suela', 'U_Descrip_Color',\n",
    "            'U_Segmentacion_SK', 'U_Division', 'U_Temporalidad']\n",
    "\n",
    "# Rellenar donde estén nulos, si existe la columna *_sk correspondiente\n",
    "for col in columnas:\n",
    "    col_sk = f'{col}_sk'\n",
    "    if col_sk in df_valido.columns:\n",
    "        df_valido[col] = df_valido[col].combine_first(df_valido[col_sk])\n",
    "        df_valido.drop(columns=[col_sk], inplace=True)\n",
    "\n",
    "df_valido.head()\n"
   ]
  },
  {
   "cell_type": "code",
   "execution_count": null,
   "id": "85bc6785",
   "metadata": {},
   "outputs": [],
   "source": [
    "df_valido.head()"
   ]
  },
  {
   "cell_type": "code",
   "execution_count": null,
   "id": "439db24b",
   "metadata": {},
   "outputs": [],
   "source": [
    "df_invalido.head()"
   ]
  },
  {
   "cell_type": "code",
   "execution_count": null,
   "id": "cd85c718",
   "metadata": {},
   "outputs": [],
   "source": [
    "# Seleccionar columnas necesarias de df_sk como referencia por ItemCode\n",
    "df_temp = df_sk[['ItemCode', 'Empresa', 'U_Estilo', 'U_Genero', 'U_Suela', 'U_Descrip_Color',\n",
    "                 'U_Segmentacion_SK', 'U_Division', 'U_Temporalidad','U_Descripcion']].copy()\n",
    "\n",
    "# Renombrar columnas para diferenciarlas después del merge\n",
    "df_temp.rename(columns={\n",
    "    'U_Estilo': 'U_Estilo_sk',\n",
    "    'U_Genero': 'U_Genero_sk',\n",
    "    'U_Suela': 'U_Suela_sk',\n",
    "    'U_Descrip_Color': 'U_Descrip_Color_sk',\n",
    "    'U_Segmentacion_SK': 'U_Segmentacion_SK_sk',\n",
    "    'U_Division': 'U_Division_sk',\n",
    "    'U_Temporalidad': 'U_Temporalidad_sk',\n",
    "    'U_Descripcion': 'U_Descripcion_sk'\n",
    "}, inplace=True)\n",
    "\n",
    "# Merge por ItemCode y Empresa\n",
    "df_invalido = df_invalido.merge(df_temp, on=['ItemCode', 'Empresa'], how='left')\n",
    "\n",
    "# Columnas a rellenar, incluyendo U_Estilo\n",
    "columnas = ['U_Estilo', 'U_Genero', 'U_Suela', 'U_Descrip_Color',\n",
    "            'U_Segmentacion_SK', 'U_Division', 'U_Temporalidad','U_Descripcion']\n",
    "\n",
    "# Rellenar solo donde estén nulos\n",
    "for col in columnas:\n",
    "    col_sk = f'{col}_sk'\n",
    "    if col_sk in df_invalido.columns:\n",
    "        df_invalido[col] = df_invalido[col].combine_first(df_invalido[col_sk])\n",
    "        df_invalido.drop(columns=[col_sk], inplace=True)\n",
    "\n",
    "df_invalido.head()\n"
   ]
  },
  {
   "cell_type": "code",
   "execution_count": null,
   "id": "f429ef08",
   "metadata": {},
   "outputs": [],
   "source": [
    "# Concatenar los DataFrames válidos e inválidos\n",
    "df_final = pd.concat([df_valido, df_invalido], ignore_index=True)\n",
    "df_final.head()"
   ]
  }
 ],
 "metadata": {
  "kernelspec": {
   "display_name": "Python 3",
   "language": "python",
   "name": "python3"
  },
  "language_info": {
   "codemirror_mode": {
    "name": "ipython",
    "version": 3
   },
   "file_extension": ".py",
   "mimetype": "text/x-python",
   "name": "python",
   "nbconvert_exporter": "python",
   "pygments_lexer": "ipython3",
   "version": "3.10.12"
  }
 },
 "nbformat": 4,
 "nbformat_minor": 5
}
